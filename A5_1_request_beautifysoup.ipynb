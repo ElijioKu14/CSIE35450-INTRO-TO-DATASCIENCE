{
 "cells": [
  {
   "cell_type": "code",
   "execution_count": 1,
   "metadata": {},
   "outputs": [],
   "source": [
    "#HWK 1\n",
    "#Elijio Ku JR.\n",
    "#410921325\n",
    "\n",
    "#request website\n",
    "import requests\n",
    "url = 'https://sys.ndhu.edu.tw/SA/XSL_ApplyRWD/ActApply.aspx?lang=en'\n",
    "html = requests.get(url)\n",
    "html.encoding=\"utf-8\""
   ]
  },
  {
   "cell_type": "code",
   "execution_count": 2,
   "metadata": {},
   "outputs": [],
   "source": [
    "#beatifulsoup on the website\n",
    "from bs4 import BeautifulSoup\n",
    "sp = BeautifulSoup(html.text, 'lxml')"
   ]
  },
  {
   "cell_type": "code",
   "execution_count": 3,
   "metadata": {},
   "outputs": [
    {
     "name": "stdout",
     "output_type": "stream",
     "text": [
      "(【心理學系列｜遇到角落，就學轉彎～壓力與情緒工作坊】)\n",
      "(【心理學系列｜遇到角落，就學轉彎～壓力與情緒工作坊】)\n",
      "(112學年度中國語文學系系友座談(二)：學高為師，身正為範──教育學程心法分享)\n",
      "(〔Rikec法學講座〕法律解殖之路：原住民族的殖民敘事解構與法律多元轉向)\n",
      "(智慧電網簡介（書報討論修課同學請勿報名）)\n",
      "(電商最新趨勢與創業實戰秘辛(線上))\n",
      "(電商最新趨勢與創業實戰秘辛(實體))\n",
      "(「縱目歐亞-空間與人文的對話」課程系列講座-4/3（三）郭俊麟副教授（國立東華大學臺灣文化學系）：歐亞地圖史話：從航海探險到戰爭之眼)\n",
      "(電影欣賞 (聖筊))\n",
      "ESP Lunch Gathering Session 1: 4/3\n",
      "10\n"
     ]
    }
   ],
   "source": [
    "#'Name of the activity'\n",
    "count = 0\n",
    "list_of_AN = []\n",
    "list_of_ANN = []\n",
    "while count < 10:\n",
    "    list_of_AN.append(sp.find(\"span\",attrs={\"id\":\"BodyContent_gvActs_lblGv_act_name_\"+str(count)}))\n",
    "    count = count +1\n",
    "\n",
    "for i in list_of_AN:\n",
    "    list_of_ANN.append(i.text.strip())\n",
    "\n",
    "for i in list_of_ANN:\n",
    "    print(i)\n",
    "print(len(list_of_ANN))"
   ]
  },
  {
   "cell_type": "code",
   "execution_count": 4,
   "metadata": {},
   "outputs": [
    {
     "name": "stdout",
     "output_type": "stream",
     "text": [
      "['4', '4', '2', '2', '2', '3', '3', '2', '2', '1']\n",
      "10\n"
     ]
    }
   ],
   "source": [
    "#'Number of hours certified'\n",
    "count = 0\n",
    "list_of_HC = []\n",
    "list_of_HCC = []\n",
    "temp = 0\n",
    "while count < 10:\n",
    "    list_of_HC.append(sp.find(\"span\",attrs={\"id\":\"BodyContent_gvActs_lblGv_xsl_check_\"+str(count)}))\n",
    "    count = count +1\n",
    "\n",
    "\n",
    "for i in list_of_HC:\n",
    "    list_of_HCC.append(i.text[6:7].strip())\n",
    "    \n",
    "print(list_of_HCC)\n",
    "print(len(list_of_HCC))\n",
    "\n",
    "\n",
    "\n"
   ]
  },
  {
   "cell_type": "code",
   "execution_count": 5,
   "metadata": {},
   "outputs": [
    {
     "name": "stdout",
     "output_type": "stream",
     "text": [
      "['20', '10', '27', '20', '17', '2', '18', '27', '50', '20']\n",
      "10\n"
     ]
    }
   ],
   "source": [
    "#'Number of people who have registered'\n",
    "count = 0\n",
    "list_of_PR = []\n",
    "list_of_PRR = []\n",
    "while count < 10:\n",
    "    list_of_PR.append(sp.find(\"span\",attrs={\"id\":\"BodyContent_gvActs_lblGv_reg_num_\"+str(count)}))\n",
    "    count = count +1\n",
    "\n",
    "for i in list_of_PR:\n",
    "    list_of_PRR.append(i.text[:2].strip())\n",
    "    \n",
    "print(list_of_PRR)\n",
    "print(len(list_of_PRR))"
   ]
  },
  {
   "cell_type": "code",
   "execution_count": 7,
   "metadata": {},
   "outputs": [
    {
     "name": "stdout",
     "output_type": "stream",
     "text": [
      "2024/03/21(Thu)00:00~ 2024/03/30(Sat)20:00\n",
      "2024/03/21(Thu)00:00~ 2024/03/30(Sat)20:00\n",
      "2024/03/22(Fri)00:00~ 2024/03/31(Sun)12:00\n",
      "2024/03/11(Mon)00:00~ 2024/04/01(Mon)00:00\n",
      "2024/03/05(Tue)12:00~ 2024/04/01(Mon)12:00\n",
      "2024/03/28(Thu)00:00~ 2024/04/01(Mon)12:00\n",
      "2024/03/28(Thu)00:00~ 2024/04/01(Mon)12:00\n",
      "2024/03/18(Mon)00:00~ 2024/04/02(Tue)00:00\n",
      "2024/03/26(Tue)00:00~ 2024/04/02(Tue)00:00\n",
      "2024/03/26(Tue)00:00~ 2024/04/02(Tue)10:00\n",
      "10\n"
     ]
    }
   ],
   "source": [
    "#'Date and time of registration' - enroll date\n",
    "count = 0\n",
    "list_of_ED = []\n",
    "list_of_EDD = []\n",
    "while count < 10:\n",
    "    list_of_ED.append(sp.find(\"span\",attrs={\"id\":\"BodyContent_gvActs_lblGv_reg_dt_\"+str(count)}))\n",
    "    count = count +1\n",
    "\n",
    "for i in list_of_ED:\n",
    "    list_of_EDD.append(i.text.strip())\n",
    "\n",
    "for i in list_of_ED:\n",
    "    print(i.text)\n",
    "print(len(list_of_EDD))"
   ]
  },
  {
   "cell_type": "code",
   "execution_count": 8,
   "metadata": {},
   "outputs": [
    {
     "name": "stdout",
     "output_type": "stream",
     "text": [
      "2024/03/31(Sun) 13:00~17:00\n",
      "2024/03/31(Sun) 13:00~17:00\n",
      "2024/04/03(Wed) 12:00~14:00\n",
      "2024/04/12(Fri) 10:00~12:00\n",
      "2024/04/01(Mon) 16:00~18:00\n",
      "2024/04/02(Tue) 14:00~17:00\n",
      "2024/04/02(Tue) 14:00~17:00\n",
      "2024/04/03(Wed) 14:00~16:00\n",
      "2024/04/02(Tue) 18:30~20:30\n",
      "2024/04/03(Wed) 12:15~13:00\n",
      "10\n"
     ]
    }
   ],
   "source": [
    "#'Date and time of the activity'. - activity time\n",
    "count = 0\n",
    "list_of_AT = []\n",
    "list_of_ATT = []\n",
    "while count < 10:\n",
    "    list_of_AT.append(sp.find(\"span\",attrs={\"id\":\"BodyContent_gvActs_lblGv_act_dt_\"+str(count)}))\n",
    "    count = count +1\n",
    "\n",
    "for i in list_of_AT:\n",
    "    list_of_ATT.append(i.text.strip())\n",
    "\n",
    "for i in list_of_ATT:\n",
    "    print(i)\n",
    "print(len(list_of_ATT))\n"
   ]
  },
  {
   "cell_type": "code",
   "execution_count": 9,
   "metadata": {},
   "outputs": [
    {
     "data": {
      "text/html": [
       "<div>\n",
       "<style scoped>\n",
       "    .dataframe tbody tr th:only-of-type {\n",
       "        vertical-align: middle;\n",
       "    }\n",
       "\n",
       "    .dataframe tbody tr th {\n",
       "        vertical-align: top;\n",
       "    }\n",
       "\n",
       "    .dataframe thead th {\n",
       "        text-align: right;\n",
       "    }\n",
       "</style>\n",
       "<table border=\"1\" class=\"dataframe\">\n",
       "  <thead>\n",
       "    <tr style=\"text-align: right;\">\n",
       "      <th></th>\n",
       "      <th>Name of the activity</th>\n",
       "      <th>Number of hours certified</th>\n",
       "      <th>Number of people who have registered</th>\n",
       "      <th>Date and time of registration</th>\n",
       "      <th>Date and time of the activity</th>\n",
       "    </tr>\n",
       "  </thead>\n",
       "  <tbody>\n",
       "    <tr>\n",
       "      <th>0</th>\n",
       "      <td>(【心理學系列｜遇到角落，就學轉彎～壓力與情緒工作坊】)</td>\n",
       "      <td>4</td>\n",
       "      <td>20</td>\n",
       "      <td>2024/03/21(Thu)00:00~ 2024/03/30(Sat)20:00</td>\n",
       "      <td>2024/03/31(Sun) 13:00~17:00</td>\n",
       "    </tr>\n",
       "    <tr>\n",
       "      <th>1</th>\n",
       "      <td>(【心理學系列｜遇到角落，就學轉彎～壓力與情緒工作坊】)</td>\n",
       "      <td>4</td>\n",
       "      <td>10</td>\n",
       "      <td>2024/03/21(Thu)00:00~ 2024/03/30(Sat)20:00</td>\n",
       "      <td>2024/03/31(Sun) 13:00~17:00</td>\n",
       "    </tr>\n",
       "    <tr>\n",
       "      <th>2</th>\n",
       "      <td>(112學年度中國語文學系系友座談(二)：學高為師，身正為範──教育學程心法分享)</td>\n",
       "      <td>2</td>\n",
       "      <td>27</td>\n",
       "      <td>2024/03/22(Fri)00:00~ 2024/03/31(Sun)12:00</td>\n",
       "      <td>2024/04/03(Wed) 12:00~14:00</td>\n",
       "    </tr>\n",
       "    <tr>\n",
       "      <th>3</th>\n",
       "      <td>(〔Rikec法學講座〕法律解殖之路：原住民族的殖民敘事解構與法律多元轉向)</td>\n",
       "      <td>2</td>\n",
       "      <td>20</td>\n",
       "      <td>2024/03/11(Mon)00:00~ 2024/04/01(Mon)00:00</td>\n",
       "      <td>2024/04/12(Fri) 10:00~12:00</td>\n",
       "    </tr>\n",
       "    <tr>\n",
       "      <th>4</th>\n",
       "      <td>(智慧電網簡介（書報討論修課同學請勿報名）)</td>\n",
       "      <td>2</td>\n",
       "      <td>17</td>\n",
       "      <td>2024/03/05(Tue)12:00~ 2024/04/01(Mon)12:00</td>\n",
       "      <td>2024/04/01(Mon) 16:00~18:00</td>\n",
       "    </tr>\n",
       "    <tr>\n",
       "      <th>5</th>\n",
       "      <td>(電商最新趨勢與創業實戰秘辛(線上))</td>\n",
       "      <td>3</td>\n",
       "      <td>2</td>\n",
       "      <td>2024/03/28(Thu)00:00~ 2024/04/01(Mon)12:00</td>\n",
       "      <td>2024/04/02(Tue) 14:00~17:00</td>\n",
       "    </tr>\n",
       "    <tr>\n",
       "      <th>6</th>\n",
       "      <td>(電商最新趨勢與創業實戰秘辛(實體))</td>\n",
       "      <td>3</td>\n",
       "      <td>18</td>\n",
       "      <td>2024/03/28(Thu)00:00~ 2024/04/01(Mon)12:00</td>\n",
       "      <td>2024/04/02(Tue) 14:00~17:00</td>\n",
       "    </tr>\n",
       "    <tr>\n",
       "      <th>7</th>\n",
       "      <td>(「縱目歐亞-空間與人文的對話」課程系列講座-4/3（三）郭俊麟副教授（國立東華大學臺灣文化...</td>\n",
       "      <td>2</td>\n",
       "      <td>27</td>\n",
       "      <td>2024/03/18(Mon)00:00~ 2024/04/02(Tue)00:00</td>\n",
       "      <td>2024/04/03(Wed) 14:00~16:00</td>\n",
       "    </tr>\n",
       "    <tr>\n",
       "      <th>8</th>\n",
       "      <td>(電影欣賞 (聖筊))</td>\n",
       "      <td>2</td>\n",
       "      <td>50</td>\n",
       "      <td>2024/03/26(Tue)00:00~ 2024/04/02(Tue)00:00</td>\n",
       "      <td>2024/04/02(Tue) 18:30~20:30</td>\n",
       "    </tr>\n",
       "    <tr>\n",
       "      <th>9</th>\n",
       "      <td>ESP Lunch Gathering Session 1: 4/3</td>\n",
       "      <td>1</td>\n",
       "      <td>20</td>\n",
       "      <td>2024/03/26(Tue)00:00~ 2024/04/02(Tue)10:00</td>\n",
       "      <td>2024/04/03(Wed) 12:15~13:00</td>\n",
       "    </tr>\n",
       "  </tbody>\n",
       "</table>\n",
       "</div>"
      ],
      "text/plain": [
       "                                Name of the activity  \\\n",
       "0                       (【心理學系列｜遇到角落，就學轉彎～壓力與情緒工作坊】)   \n",
       "1                       (【心理學系列｜遇到角落，就學轉彎～壓力與情緒工作坊】)   \n",
       "2          (112學年度中國語文學系系友座談(二)：學高為師，身正為範──教育學程心法分享)   \n",
       "3             (〔Rikec法學講座〕法律解殖之路：原住民族的殖民敘事解構與法律多元轉向)   \n",
       "4                             (智慧電網簡介（書報討論修課同學請勿報名）)   \n",
       "5                                (電商最新趨勢與創業實戰秘辛(線上))   \n",
       "6                                (電商最新趨勢與創業實戰秘辛(實體))   \n",
       "7  (「縱目歐亞-空間與人文的對話」課程系列講座-4/3（三）郭俊麟副教授（國立東華大學臺灣文化...   \n",
       "8                                        (電影欣賞 (聖筊))   \n",
       "9                 ESP Lunch Gathering Session 1: 4/3   \n",
       "\n",
       "  Number of hours certified Number of people who have registered  \\\n",
       "0                         4                                   20   \n",
       "1                         4                                   10   \n",
       "2                         2                                   27   \n",
       "3                         2                                   20   \n",
       "4                         2                                   17   \n",
       "5                         3                                    2   \n",
       "6                         3                                   18   \n",
       "7                         2                                   27   \n",
       "8                         2                                   50   \n",
       "9                         1                                   20   \n",
       "\n",
       "                Date and time of registration Date and time of the activity  \n",
       "0  2024/03/21(Thu)00:00~ 2024/03/30(Sat)20:00   2024/03/31(Sun) 13:00~17:00  \n",
       "1  2024/03/21(Thu)00:00~ 2024/03/30(Sat)20:00   2024/03/31(Sun) 13:00~17:00  \n",
       "2  2024/03/22(Fri)00:00~ 2024/03/31(Sun)12:00   2024/04/03(Wed) 12:00~14:00  \n",
       "3  2024/03/11(Mon)00:00~ 2024/04/01(Mon)00:00   2024/04/12(Fri) 10:00~12:00  \n",
       "4  2024/03/05(Tue)12:00~ 2024/04/01(Mon)12:00   2024/04/01(Mon) 16:00~18:00  \n",
       "5  2024/03/28(Thu)00:00~ 2024/04/01(Mon)12:00   2024/04/02(Tue) 14:00~17:00  \n",
       "6  2024/03/28(Thu)00:00~ 2024/04/01(Mon)12:00   2024/04/02(Tue) 14:00~17:00  \n",
       "7  2024/03/18(Mon)00:00~ 2024/04/02(Tue)00:00   2024/04/03(Wed) 14:00~16:00  \n",
       "8  2024/03/26(Tue)00:00~ 2024/04/02(Tue)00:00   2024/04/02(Tue) 18:30~20:30  \n",
       "9  2024/03/26(Tue)00:00~ 2024/04/02(Tue)10:00   2024/04/03(Wed) 12:15~13:00  "
      ]
     },
     "metadata": {},
     "output_type": "display_data"
    }
   ],
   "source": [
    "# importing pandas as pd \n",
    "import pandas as pd \n",
    "  \n",
    "a = list_of_ANN\n",
    "b = list_of_HCC\n",
    "c = list_of_PRR\n",
    "d = list_of_EDD\n",
    "e = list_of_ATT\n",
    "\n",
    "# dictionary of lists \n",
    "dict = {'Name of the activity': a, 'Number of hours certified': b, 'Number of people who have registered': c, 'Date and time of registration': d, 'Date and time of the activity': e}    \n",
    "df = pd.DataFrame(dict)\n",
    "\n",
    "display(df)\n",
    "\n",
    "\n",
    "\n"
   ]
  }
 ],
 "metadata": {
  "kernelspec": {
   "display_name": "base",
   "language": "python",
   "name": "python3"
  },
  "language_info": {
   "codemirror_mode": {
    "name": "ipython",
    "version": 3
   },
   "file_extension": ".py",
   "mimetype": "text/x-python",
   "name": "python",
   "nbconvert_exporter": "python",
   "pygments_lexer": "ipython3",
   "version": "3.11.7"
  }
 },
 "nbformat": 4,
 "nbformat_minor": 2
}
