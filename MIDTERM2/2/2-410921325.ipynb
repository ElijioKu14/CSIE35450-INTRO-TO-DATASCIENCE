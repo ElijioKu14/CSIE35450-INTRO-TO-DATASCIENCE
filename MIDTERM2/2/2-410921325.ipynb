{
 "cells": [
  {
   "cell_type": "code",
   "execution_count": 105,
   "metadata": {},
   "outputs": [
    {
     "name": "stdout",
     "output_type": "stream",
     "text": [
      "Youth: Total = 23278642, Proportion = 12.01\n",
      "Young Adults: Total = 23278642, Proportion = 10.03\n",
      "Adults: Total = 23278642, Proportion = 59.36\n",
      "Elderly: Total = 23278642, Proportion = 18.37\n",
      "Total Population: 23278642\n"
     ]
    }
   ],
   "source": [
    "import pandas as pd\n",
    "import numpy as np\n",
    "\n",
    "\n",
    "df = pd.read_csv(\"EqmzAgvPn7EHUzfh4Ac5xn8SIPxnlKaHbUM800d0.csv\",skiprows=7, nrows=202,encoding=\"utf8\")\n",
    "df.columns = [\"Variant\",\"Gender\",\"Age\",\"2013\",\"2014\",\"2015\",\"2016\",\"2017\",\"2018\",\"2019\",\"2020\",\"2021\",\"2022\",\"2023\"]\n",
    "\n",
    "df[\"Age\"].replace(\"'\", '', regex=True, inplace=True) #front\n",
    "df[\"Age\"].replace(\"100 +\", '100', inplace=True) #front\n",
    "df[\"Age\"] = df[\"Age\"].astype(int)\n",
    "df1 = df.groupby([\"Age\"], as_index=False).sum()\n",
    "total = df1[\"2023\"].sum()\n",
    "Youth = df1[\"2023\"].iloc[[0,1,2,3,4,5,6,7,8,9,10,11,12,13,14]].sum()\n",
    "Young_adults = df1[\"2023\"].iloc[[15,16,17,18,19,20,21,22,23,24]].sum()\n",
    "Adults = df1[\"2023\"].iloc[[25,25,27,28,29,30,31,32,33,34,35,36,37,38,39,40,41,42,43,44,45,46,47,48,49,50,51,52,53,54,55,56,57,58,59,60,61,62,63,64]].sum()\n",
    "Elderly = df1[\"2023\"].iloc[[65,66,67,68,69,70,71,72,73,74,75,76,77,78,79,80,81,82,83,84,85,86,87,88,89,90,91,92,93,94,95,96,97,98,99,100]].sum()\n",
    "\n",
    "print(\"Youth: Total = %s, Proportion = %s\" %(total,(Youth/total*100).round(2)))\n",
    "print(\"Young Adults: Total = %s, Proportion = %s\" %(total,(Young_adults/total*100).round(2)))\n",
    "print(\"Adults: Total = %s, Proportion = %s\" %(total,(Adults/total*100).round(2)))\n",
    "print(\"Elderly: Total = %s, Proportion = %s\" %(total,(Elderly/total*100).round(2)))\n",
    "print(\"Total Population: %s\" %(total))\n",
    "\n",
    "\n"
   ]
  }
 ],
 "metadata": {
  "kernelspec": {
   "display_name": "base",
   "language": "python",
   "name": "python3"
  },
  "language_info": {
   "codemirror_mode": {
    "name": "ipython",
    "version": 3
   },
   "file_extension": ".py",
   "mimetype": "text/x-python",
   "name": "python",
   "nbconvert_exporter": "python",
   "pygments_lexer": "ipython3",
   "version": "3.11.7"
  }
 },
 "nbformat": 4,
 "nbformat_minor": 2
}
