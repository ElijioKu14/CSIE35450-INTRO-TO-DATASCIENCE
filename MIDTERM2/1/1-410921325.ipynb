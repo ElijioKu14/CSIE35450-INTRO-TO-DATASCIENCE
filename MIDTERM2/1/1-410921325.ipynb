{
 "cells": [
  {
   "cell_type": "code",
   "execution_count": 2,
   "metadata": {},
   "outputs": [
    {
     "name": "stdout",
     "output_type": "stream",
     "text": [
      "   Midterm1  Midterm2  Midterm3  Final\n",
      "0      28.0      59.0      36.0   63.9\n",
      "1      69.0      55.0      66.0   87.0\n",
      "2      54.0      69.0      55.0   53.4\n",
      "3      45.0      52.0      37.0   61.2\n",
      "4      32.0      15.0      61.0   35.4\n",
      "5      61.0      45.0      38.0   61.2\n",
      "6      45.0      75.0      63.0   78.9\n",
      "7      59.0      29.0      62.0   57.0\n",
      "8      54.0      39.0      49.0   57.6\n",
      "9      36.0      62.0      36.0   52.2\n"
     ]
    }
   ],
   "source": [
    "import pandas as pd\n",
    "import numpy as np\n",
    "\n",
    "\n",
    "df = pd.read_csv(\"9oHpMOwN1xNUEI5n0idFcRvGjOsXeM3cZDa9NNyA.csv\", header=None,encoding=\"utf8\")\n",
    "df.columns = [\"a\", \"b\", \"c\", \"d\", \"e\", \"f\", \"g\", \"h\", \"i\", \"j\", \"k\", \"l\", \"m\", \"n\", \"o\", \"p\", \"q\", \"r\", \"s\", \"t\", \"u\", \"v\", \"w\", \"x\", \"y\", \"z\", \"aa\", \"ab\", \"ac\",\"ad\", \"ae\"]\n",
    "\n",
    "m1 = pd.Series()\n",
    "m1 = (df[\"a\"]*0.1) + (df[\"b\"]*0.1) + (df[\"c\"]*0.1) + (df[\"d\"]*0.1) + (df[\"e\"]*0.2) + (df[\"f\"]*0.2) + (df[\"g\"]*0.2)\n",
    "\n",
    "m2 = pd.Series()\n",
    "m2 = (df[\"h\"]*0.1) + (df[\"i\"]*0.1) + (df[\"j\"]*0.1) + (df[\"k\"]*0.1) + (df[\"l\"]*0.2) + (df[\"m\"]*0.2) + (df[\"n\"]*0.2)\n",
    "\n",
    "m3 = pd.Series()\n",
    "m3 = (df[\"o\"]*0.1) + (df[\"p\"]*0.1) + (df[\"q\"]*0.1) + (df[\"r\"]*0.1) + (df[\"s\"]*0.2) + (df[\"t\"]*0.2) + (df[\"u\"]*0.2)\n",
    "\n",
    "att = pd.Series()\n",
    "att = ((df[\"v\"])+ (df[\"w\"]) + (df[\"x\"]) + (df[\"y\"]) + (df[\"z\"]) + (df[\"aa\"]) + (df[\"ab\"])+ (df[\"ac\"]) + (df[\"ad\"])+ (df[\"ae\"]))* 10\n",
    "final = (m1*0.3)+(m2*0.3)+(m3*0.3) + (att*0.3)\n",
    "result = pd.concat([m1,m2,m3,final] ,axis=1)\n",
    "result.columns = [\"Midterm1\", \"Midterm2\", \"Midterm3\", \"Final\"]\n",
    "print(result)\n",
    "result.to_csv('output1.csv', index=False)\n",
    "\n",
    "\n"
   ]
  }
 ],
 "metadata": {
  "kernelspec": {
   "display_name": "base",
   "language": "python",
   "name": "python3"
  },
  "language_info": {
   "codemirror_mode": {
    "name": "ipython",
    "version": 3
   },
   "file_extension": ".py",
   "mimetype": "text/x-python",
   "name": "python",
   "nbconvert_exporter": "python",
   "pygments_lexer": "ipython3",
   "version": "3.11.7"
  }
 },
 "nbformat": 4,
 "nbformat_minor": 2
}
