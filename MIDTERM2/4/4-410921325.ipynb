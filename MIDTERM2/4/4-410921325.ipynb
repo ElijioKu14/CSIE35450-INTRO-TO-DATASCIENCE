{
 "cells": [
  {
   "cell_type": "code",
   "execution_count": 108,
   "metadata": {},
   "outputs": [],
   "source": [
    "from selenium import webdriver\n",
    "from selenium.webdriver.common.by import By\n",
    "from selenium.webdriver.chrome.service import Service\n",
    "import urllib\n",
    "import time\n",
    "\n",
    "\n",
    "driverPath = \"chromedriver.exe\"\n",
    "s = Service(executable_path=driverPath)\n",
    "total = 157\n",
    "\n",
    "browser = webdriver.Chrome(service=s)\n",
    "url = 'https://www.cwa.gov.tw/V8/E/W/OBS_Sat.html'\n",
    "browser.get(url)\n",
    " "
   ]
  },
  {
   "cell_type": "code",
   "execution_count": 109,
   "metadata": {},
   "outputs": [],
   "source": [
    "from datetime import date\n",
    "pic = browser.find_elements(By.XPATH,\"//div[@class='zoomHolder']/img\")\n",
    "src = []\n",
    "\n",
    "for i in pic:\n",
    "    src.append(i.get_attribute('src'))\n",
    "\n",
    "today = date.today()\n",
    "img = src[0].replace(\"LCC_IR1_CR_en_2750/LCC_IR1_CR_en_2750\",\"TWI_IR1_CR_en_800/TWI_IR1_CR_en_800\" )\n",
    "img = img[:-20] +str(today)+\"-09-00.jpg\"\n",
    "\n",
    "\n",
    "def download_image(img, save_as):\n",
    "    urllib.request.urlretrieve(img, save_as)\n",
    "\n",
    "save_as = 'image.jpg'\n",
    "download_image(img, save_as)\n"
   ]
  }
 ],
 "metadata": {
  "kernelspec": {
   "display_name": "base",
   "language": "python",
   "name": "python3"
  },
  "language_info": {
   "codemirror_mode": {
    "name": "ipython",
    "version": 3
   },
   "file_extension": ".py",
   "mimetype": "text/x-python",
   "name": "python",
   "nbconvert_exporter": "python",
   "pygments_lexer": "ipython3",
   "version": "3.11.7"
  }
 },
 "nbformat": 4,
 "nbformat_minor": 2
}
