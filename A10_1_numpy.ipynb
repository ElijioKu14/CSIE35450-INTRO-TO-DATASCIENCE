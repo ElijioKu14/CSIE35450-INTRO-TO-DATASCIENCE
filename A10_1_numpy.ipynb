{
 "cells": [
  {
   "cell_type": "code",
   "execution_count": 1,
   "metadata": {},
   "outputs": [
    {
     "name": "stdout",
     "output_type": "stream",
     "text": [
      "Original Data Shape: (1000, 800)\n",
      "Number of Nan: 80000\n"
     ]
    }
   ],
   "source": [
    "#Data Generation and Processing:\n",
    " #  - Generate a 2D data array `data` of shape (1000, 800), where the values follow a normal distribution with a mean of -1 and a standard deviation of 1.5.\n",
    " #  - Randomly set approximately 10% of the data points to NaN.\n",
    "# - Print the shape of the original data `data` to confirm the dimensions are correct.\n",
    "#  - Print an overview of the data after setting NaNs (e.g., use `np.isnan(data).sum()` to print the number of NaNs).\\\n",
    "\n",
    "import numpy as np\n",
    "\n",
    "mu, sigma = -1, 1.5 # mean and standard deviation\n",
    "data = np.random.normal(mu, sigma, 800000)\n",
    "data = data.reshape((1000,800))\n",
    "\n",
    "# choosing random indexes to put NaN\n",
    "index_nan = np.random.choice(data.size, int(((1000*800)/10)), replace=False)\n",
    " \n",
    "# adding nan to the data.\n",
    "data.ravel()[index_nan] = np.nan\n",
    "\n",
    "print(\"Original Data Shape: \" + str(data.shape))\n",
    "print(\"Number of Nan: \" + str(np.isnan(data).sum()))\n",
    "\n",
    "\n",
    "\n"
   ]
  },
  {
   "cell_type": "code",
   "execution_count": 2,
   "metadata": {},
   "outputs": [
    {
     "name": "stdout",
     "output_type": "stream",
     "text": [
      "Mean after imputation: -1.0035378272649023\n",
      "STD after imputation: 1.4249103734125055\n",
      "\n",
      "Mean after standardization: 0.0007027572194882629\n",
      "STD afte standardization: 1.0000000001394165\n"
     ]
    }
   ],
   "source": [
    "'''2. Data Imputation and Standardization:\n",
    "   - Impute all NaN values with the mean of the non-NaN values in the dataset.\n",
    "   - Standardize the imputed data so that the new dataset has a mean close to 0 and a standard deviation close to 1.\n",
    "   - Print the new mean and standard deviation of the dataset after imputation.\n",
    "   - Print the mean and standard deviation of the standardized dataset `data_normalized` to confirm it is close to 0 and 1.'''\n",
    "mean = np.nanmean(data)\n",
    "data[np.isnan(data)] = mean\n",
    "print(\"Mean after imputation: \" + str(np.mean(data)))\n",
    "print(\"STD after imputation: \" +str(np.std(data)))\n",
    "print()\n",
    "\n",
    "data -= (np.mean(data,axis=0)-0.001)\n",
    "data /= np.std(data, axis=0)\n",
    "print(\"Mean after standardization: \" + str(np.mean(data)))\n",
    "print(\"STD afte standardization: \" +str(np.std(data)))"
   ]
  },
  {
   "cell_type": "code",
   "execution_count": 3,
   "metadata": {},
   "outputs": [
    {
     "name": "stdout",
     "output_type": "stream",
     "text": [
      "\n",
      "Filtered_data size: 400825\n",
      "\n",
      "First 10 elemetent: [0.04910563 0.82705679 0.08924769 0.61052292 0.29972401 1.87997847\n",
      " 0.6111632  1.75240069 0.43215538 1.40466572]\n"
     ]
    }
   ],
   "source": [
    "'''3. Masking Operation and Data Selection:\n",
    "   - Create a mask `mask` to select all elements greater than the mean in the standardized data.\n",
    "   - Use the mask `mask` to select and store all elements greater than the mean from `data_normalized` into `filtered_data`.\n",
    "   - Print the number of elements selected by the mask.\n",
    "   - Print the first 10 elements of `filtered_data` to confirm the masking operation is correct.'''\n",
    "\n",
    "mask = (data > np.mean(data))\n",
    "filtered_data = data[mask]\n",
    "print(\"\\nFiltered_data size: \" +str(filtered_data.size))\n",
    "print(\"\\nFirst 10 elemetent: \"+str(filtered_data[:10]))\n"
   ]
  },
  {
   "cell_type": "code",
   "execution_count": 4,
   "metadata": {},
   "outputs": [
    {
     "name": "stdout",
     "output_type": "stream",
     "text": [
      "First 10 elements: \n",
      "[0.         1.65411359 0.         1.22104585 0.         3.75995694\n",
      " 1.2223264  3.50480137 0.         2.80933145]\n",
      "\n",
      "shape: (200, 1600)\n"
     ]
    }
   ],
   "source": [
    "'''4. Data Modification and Shape Change:\n",
    "   - Multiply all values in `filtered_data` by 2.\n",
    "   - Set all elements in `filtered_data` that are less than 1 to 0.\n",
    "   - Get the first 320,000 number, than change the shape of `filtered_data` to (200, 1600).\n",
    "   - After modifying `filtered_data` (such as multiplying by 2 and setting values less than 1 to 0), print the first 10 modified elements.\n",
    "   - Print the new shape of `filtered_data` and confirm that it is (200, 1600).'''\n",
    "\n",
    "filtered_data = filtered_data *2\n",
    "filtered_data[filtered_data < 1] = 0\n",
    "\n",
    "filtered_data = filtered_data[0:320000]\n",
    "filter_data = np.reshape(filtered_data,(200,1600))\n",
    "\n",
    "a  = np.ravel(filter_data)\n",
    "print(\"First 10 elements: \\n\" +str(a[:10]))\n",
    "print(\"\\nshape: \" +str(filter_data.shape))\n"
   ]
  }
 ],
 "metadata": {
  "kernelspec": {
   "display_name": "base",
   "language": "python",
   "name": "python3"
  },
  "language_info": {
   "codemirror_mode": {
    "name": "ipython",
    "version": 3
   },
   "file_extension": ".py",
   "mimetype": "text/x-python",
   "name": "python",
   "nbconvert_exporter": "python",
   "pygments_lexer": "ipython3",
   "version": "3.11.7"
  }
 },
 "nbformat": 4,
 "nbformat_minor": 2
}
